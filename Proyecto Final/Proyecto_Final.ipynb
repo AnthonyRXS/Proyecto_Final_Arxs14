{
  "cells": [
    {
      "cell_type": "markdown",
      "id": "a62202dd",
      "metadata": {
        "id": "a62202dd"
      },
      "source": [
        "# Estudio de emisiones de Dioxido de Carbono"
      ]
    },
    {
      "cell_type": "markdown",
      "id": "8026dfad",
      "metadata": {},
      "source": [
        "## Estudiante: Anthony Rodriguez Salazar "
      ]
    },
    {
      "cell_type": "markdown",
      "id": "98d6cc2c",
      "metadata": {
        "id": "98d6cc2c"
      },
      "source": [
        "## Objetivo"
      ]
    },
    {
      "cell_type": "markdown",
      "id": "f6e5f5ed",
      "metadata": {
        "id": "f6e5f5ed"
      },
      "source": [
        "Cargar un archivo 'Carbon_Dioxide_Emission_Estimates.csv' responder las siguientes preguntas"
      ]
    },
    {
      "cell_type": "markdown",
      "id": "e21e6b1c",
      "metadata": {
        "id": "e21e6b1c"
      },
      "source": [
        "## Contexto\n"
      ]
    },
    {
      "cell_type": "markdown",
      "id": "c4c7df65",
      "metadata": {
        "id": "c4c7df65"
      },
      "source": [
        "Se tiene un set de datos contenido en un archivo del tipo csv.\n",
        "\n",
        "El archivo es 'Carbon_Dioxide_Emission_Estimates.csv'.\n",
        "\n",
        "A continuación se presenta el paso cero para leer del archivo que contiene 2 tipos de filas según sea el valor en la columna 'Type':\n",
        "\n",
        "- Emissions_thousand__metric_tons_of_carbon_dioxide\n",
        "- Emissions_per_capita__metric_tons_of_carbon_dioxide\n",
        "\n",
        "El valor de las emisiones están en medidas de Toneladas métricas de Dióxido de Carbono"
      ]
    },
    {
      "cell_type": "markdown",
      "id": "352UFM-aEWCT",
      "metadata": {
        "id": "352UFM-aEWCT"
      },
      "source": [
        "# Pregunta 0\n",
        "\n",
        "1. Crear un dataframe con el nombre de variable 'df_emisions_co2' usando únicamente las filas cuya columna 'Type' tiene el valor 'Emissions (thousand metric tons of carbon dioxide)'\n",
        "\n",
        "2. Crear un dataframe con el nombre de variable 'df_emisions_co2_per_capita' usando únicamente las filas cuya columna 'Type' tiene el valor Emissions per capita (metric tons of carbon dioxide)"
      ]
    },
    {
      "cell_type": "code",
      "execution_count": null,
      "id": "92af61da",
      "metadata": {},
      "outputs": [
        {
          "name": "stdout",
          "output_type": "stream",
          "text": [
            "c:\\Users\\Estudiantes\\Desktop\\ARXS\\Python\\Python Basico\\Trabajos\\Proyecto_Final-_Arxs\\Proyecto Final\n",
            "   Country  Year                                               Type     Value\n",
            "0  Albania  1975  Emissions (thousand metric tons of carbon diox...  4338.334\n",
            "1  Albania  1985  Emissions (thousand metric tons of carbon diox...  6929.926\n",
            "2  Albania  1995  Emissions (thousand metric tons of carbon diox...  1848.549\n",
            "3  Albania  2005  Emissions (thousand metric tons of carbon diox...  3825.184\n",
            "4  Albania  2010  Emissions (thousand metric tons of carbon diox...  3930.295\n"
          ]
        }
      ],
      "source": [
        "import os\n",
        "print(os.getcwd())\n",
        "\n",
        "#usar pip install openpyxl\n",
        "import pandas as pd\n",
        "\n",
        "file_path = 'Carbon_Dioxide_Emission_Estimates.xlsx'\n",
        "df = pd.read_excel(file_path,header=0)\n",
        "\n",
        "print(df.head())"
      ]
    },
    {
      "cell_type": "code",
      "execution_count": 40,
      "id": "8fa95e4f",
      "metadata": {},
      "outputs": [
        {
          "name": "stdout",
          "output_type": "stream",
          "text": [
            "   Country  Year                                               Type     Value\n",
            "0  Albania  1975  Emissions (thousand metric tons of carbon diox...  4338.334\n",
            "1  Albania  1985  Emissions (thousand metric tons of carbon diox...  6929.926\n",
            "2  Albania  1995  Emissions (thousand metric tons of carbon diox...  1848.549\n",
            "3  Albania  2005  Emissions (thousand metric tons of carbon diox...  3825.184\n",
            "4  Albania  2010  Emissions (thousand metric tons of carbon diox...  3930.295\n",
            "    Country  Year                                               Type  Value\n",
            "8   Albania  1975  Emissions per capita (metric tons of carbon di...  1.804\n",
            "9   Albania  1985  Emissions per capita (metric tons of carbon di...  2.337\n",
            "10  Albania  1995  Emissions per capita (metric tons of carbon di...  0.580\n",
            "11  Albania  2005  Emissions per capita (metric tons of carbon di...  1.270\n",
            "12  Albania  2010  Emissions per capita (metric tons of carbon di...  1.349\n"
          ]
        }
      ],
      "source": [
        "\n",
        "# Filtrar los datos según la columna 'Type'\n",
        "df_emisions_co2 = df[df['Type'] == 'Emissions (thousand metric tons of carbon dioxide)']\n",
        "df_emisions_co2_per_capita = df[df['Type'] == 'Emissions per capita (metric tons of carbon dioxide)']\n",
        "\n",
        "# Mostrar los primeros registros de cada DataFrame\n",
        "print(df_emisions_co2.head())\n",
        "print(df_emisions_co2_per_capita.head())"
      ]
    },
    {
      "cell_type": "markdown",
      "id": "d6bd6661",
      "metadata": {
        "id": "d6bd6661"
      },
      "source": [
        "# Pregunta 1"
      ]
    },
    {
      "cell_type": "markdown",
      "id": "3299b6b5",
      "metadata": {
        "id": "3299b6b5"
      },
      "source": [
        "Cuántas filas tiene el dataframe 'df_emisions_co2'?"
      ]
    },
    {
      "cell_type": "code",
      "execution_count": 41,
      "id": "e16984c1",
      "metadata": {},
      "outputs": [
        {
          "name": "stdout",
          "output_type": "stream",
          "text": [
            "1066\n"
          ]
        }
      ],
      "source": [
        "# Coloque el código que responda a la pregunta aqui\n",
        "\n",
        "num_filas = df_emisions_co2.shape[0]\n",
        "print(num_filas)"
      ]
    },
    {
      "cell_type": "markdown",
      "id": "880f891d",
      "metadata": {
        "id": "880f891d"
      },
      "source": [
        "# Pregunta 2"
      ]
    },
    {
      "cell_type": "markdown",
      "id": "34700c9d",
      "metadata": {
        "id": "34700c9d"
      },
      "source": [
        "Cuál en el valor más alto de emisiones (en general) usando el dataframe 'df_emisions_co2'?"
      ]
    },
    {
      "cell_type": "code",
      "execution_count": 42,
      "id": "24bdf93a",
      "metadata": {
        "id": "24bdf93a"
      },
      "outputs": [
        {
          "name": "stdout",
          "output_type": "stream",
          "text": [
            "float64\n",
            "9257933.9\n"
          ]
        },
        {
          "name": "stderr",
          "output_type": "stream",
          "text": [
            "C:\\Users\\Estudiantes\\AppData\\Local\\Temp\\ipykernel_90560\\1477605818.py:16: SettingWithCopyWarning: \n",
            "A value is trying to be set on a copy of a slice from a DataFrame.\n",
            "Try using .loc[row_indexer,col_indexer] = value instead\n",
            "\n",
            "See the caveats in the documentation: https://pandas.pydata.org/pandas-docs/stable/user_guide/indexing.html#returning-a-view-versus-a-copy\n",
            "  df_emisions_co2['Value'] = pd.to_numeric(df_emisions_co2['Value'], errors='coerce')\n"
          ]
        }
      ],
      "source": [
        "# Coloque el código que responda a la pregunta aqui exactamente lo que se pregunta\n",
        "\n",
        "import pandas as pd\n",
        "\n",
        "# Cargar el archivo CSV o Excel\n",
        "file_path = 'Carbon_Dioxide_Emission_Estimates.xlsx'\n",
        "df = pd.read_excel(file_path, header=0)\n",
        "\n",
        "# Asegurarse de que los nombres de las columnas estén limpios (sin espacios extra)\n",
        "df.columns = df.columns.str.strip()\n",
        "\n",
        "# Filtrar las emisiones de CO2\n",
        "df_emisions_co2 = df[df['Type'] == 'Emissions (thousand metric tons of carbon dioxide)']\n",
        "\n",
        "# Convertir la columna 'Value' a tipo numérico, forzando errores a NaN (si hay valores no numéricos)\n",
        "df_emisions_co2['Value'] = pd.to_numeric(df_emisions_co2['Value'], errors='coerce')\n",
        "\n",
        "# Verificar si la conversión fue exitosa\n",
        "print(df_emisions_co2['Value'].dtype)  # Debe ser float64 si se convirtió correctamente\n",
        "\n",
        "# Calcular el valor máximo de las emisiones\n",
        "valor_maximo_emisiones = df_emisions_co2['Value'].max()\n",
        "\n",
        "# Imprimir el valor máximo de emisiones\n",
        "print(valor_maximo_emisiones)"
      ]
    },
    {
      "cell_type": "markdown",
      "id": "7ebd3621",
      "metadata": {
        "id": "7ebd3621"
      },
      "source": [
        "# Pregunta 3"
      ]
    },
    {
      "cell_type": "markdown",
      "id": "eb81f1c8",
      "metadata": {
        "id": "eb81f1c8"
      },
      "source": [
        "Cuántos países (Countries) hay en el dataframe 'df_emisions_co2'?"
      ]
    },
    {
      "cell_type": "code",
      "execution_count": 26,
      "id": "4f60454b",
      "metadata": {
        "id": "4f60454b"
      },
      "outputs": [
        {
          "name": "stdout",
          "output_type": "stream",
          "text": [
            "141\n"
          ]
        }
      ],
      "source": [
        "# Coloque el código que responda a la pregunta aqui exactamente lo que se pregunta\n",
        "\n",
        "num_paises = df_emisions_co2['Country'].nunique()\n",
        "print(num_paises)"
      ]
    },
    {
      "cell_type": "code",
      "execution_count": 27,
      "id": "2f46faa0",
      "metadata": {
        "id": "2f46faa0"
      },
      "outputs": [
        {
          "name": "stdout",
          "output_type": "stream",
          "text": [
            "['Albania' 'Algeria' 'Angola' 'Argentina' 'Armenia' 'Australia' 'Austria'\n",
            " 'Azerbaijan' 'Bahrain' 'Bangladesh' 'Belarus' 'Belgium' 'Benin'\n",
            " 'Bolivia (Plurin. State of)' 'Bosnia and Herzegovina' 'Botswana' 'Brazil'\n",
            " 'Brunei Darussalam' 'Bulgaria' 'Cambodia' 'Cameroon' 'Canada' 'Chile'\n",
            " 'China' 'Colombia' 'Congo' 'Costa Rica' 'CÃ´te dâ€™Ivoire' 'Croatia'\n",
            " 'Cuba' 'CuraÃ§ao' 'Cyprus' 'Czechia' \"Dem. People's Rep. Korea\"\n",
            " 'Dem. Rep. of the Congo' 'Denmark' 'Dominican Republic' 'Ecuador' 'Egypt'\n",
            " 'El Salvador' 'Eritrea' 'Estonia' 'Ethiopia' 'Finland' 'France' 'Gabon'\n",
            " 'Georgia' 'Germany' 'Ghana' 'Gibraltar' 'Greece' 'Guatemala' 'Haiti'\n",
            " 'Honduras' 'Hungary' 'Iceland' 'India' 'Indonesia'\n",
            " 'Iran (Islamic Republic of)' 'Iraq' 'Ireland' 'Israel' 'Italy' 'Jamaica'\n",
            " 'Japan' 'Jordan' 'Kazakhstan' 'Kenya' 'Kosovo' 'Kuwait' 'Kyrgyzstan'\n",
            " 'Latvia' 'Lebanon' 'Libya' 'Lithuania' 'Luxembourg' 'Malaysia' 'Malta'\n",
            " 'Mauritius' 'Mexico' 'Mongolia' 'Montenegro' 'Morocco' 'Mozambique'\n",
            " 'Myanmar' 'Namibia' 'Nepal' 'Netherlands' 'New Zealand' 'Nicaragua'\n",
            " 'Niger' 'Nigeria' 'Norway' 'Oman' 'Pakistan' 'Panama' 'Paraguay' 'Peru'\n",
            " 'Philippines' 'Poland' 'Portugal' 'Qatar' 'Republic of Korea'\n",
            " 'Republic of Moldova' 'Romania' 'Russian Federation' 'Saudi Arabia'\n",
            " 'Senegal' 'Serbia' 'Singapore' 'Slovakia' 'Slovenia' 'South Africa'\n",
            " 'South Sudan' 'Spain' 'Sri Lanka' 'Sudan' 'Suriname' 'Sweden'\n",
            " 'Switzerland' 'Syrian Arab Republic' 'Tajikistan' 'Thailand'\n",
            " 'North Macedonia' 'Togo' 'Trinidad and Tobago' 'Tunisia' 'Turkey'\n",
            " 'Turkmenistan' 'Ukraine' 'United Arab Emirates' 'United Kingdom'\n",
            " 'United Rep. of Tanzania' 'United States of America' 'Uruguay'\n",
            " 'Uzbekistan' 'Venezuela (Boliv. Rep. of)' 'Viet Nam' 'Yemen' 'Zambia'\n",
            " 'Zimbabwe']\n"
          ]
        }
      ],
      "source": [
        "#Imprima un lista con todos los paises\n",
        "\n",
        "lista_paises = df_emisions_co2['Country'].unique()\n",
        "print(lista_paises)"
      ]
    },
    {
      "cell_type": "markdown",
      "id": "1e40352a",
      "metadata": {
        "id": "1e40352a"
      },
      "source": [
        "# Pregunta 4"
      ]
    },
    {
      "cell_type": "markdown",
      "id": "80c46908",
      "metadata": {
        "id": "80c46908"
      },
      "source": [
        "Cuál es el país que tiene mayor emisiones usando el dataframe 'df_emisions_co2'?"
      ]
    },
    {
      "cell_type": "code",
      "execution_count": 43,
      "id": "e6df7d42",
      "metadata": {
        "id": "e6df7d42"
      },
      "outputs": [
        {
          "name": "stdout",
          "output_type": "stream",
          "text": [
            "China\n"
          ]
        }
      ],
      "source": [
        "# Coloque el código que responda a la pregunta aqui exactamente lo que se pregunta\n",
        "pais_maximo_emisiones = df_emisions_co2.loc[df_emisions_co2['Value'].idxmax(), 'Country']\n",
        "print(pais_maximo_emisiones)\n",
        "\n"
      ]
    },
    {
      "cell_type": "markdown",
      "id": "26c97fde",
      "metadata": {
        "id": "26c97fde"
      },
      "source": [
        "# Pregunta 5"
      ]
    },
    {
      "cell_type": "markdown",
      "id": "541f44ca",
      "metadata": {
        "id": "541f44ca"
      },
      "source": [
        "Cuál es el año que tiene mayor emisiones para el país de Spain usando el dataframe 'df_emisions_co2'?"
      ]
    },
    {
      "cell_type": "code",
      "execution_count": 44,
      "id": "c32f62d1",
      "metadata": {
        "id": "c32f62d1"
      },
      "outputs": [
        {
          "name": "stdout",
          "output_type": "stream",
          "text": [
            "2005\n"
          ]
        }
      ],
      "source": [
        "# Coloque el código que responda a la pregunta aqui exactamente lo que se pregunta\n",
        "\n",
        "# Filtrar \n",
        "df_spain = df_emisions_co2[df_emisions_co2['Country'] == 'Spain']\n",
        "\n",
        "# Obtener datos del año con mayor emisión de CO2\n",
        "año_maximo_emisiones_spain = df_spain.loc[df_spain['Value'].idxmax(), 'Year']\n",
        "print(año_maximo_emisiones_spain)"
      ]
    },
    {
      "cell_type": "markdown",
      "id": "55ce4564",
      "metadata": {
        "id": "55ce4564"
      },
      "source": [
        "# Pregunta 6"
      ]
    },
    {
      "cell_type": "markdown",
      "id": "3473e4f2",
      "metadata": {
        "id": "3473e4f2"
      },
      "source": [
        "Cuáles son los años que se tiene registros para el dataframe 'df_emisions_co2_per_capita'?\n",
        "\n",
        "Entrege una lista con los años sin repetirse"
      ]
    },
    {
      "cell_type": "code",
      "execution_count": 45,
      "id": "5ad50924",
      "metadata": {
        "id": "5ad50924"
      },
      "outputs": [
        {
          "name": "stdout",
          "output_type": "stream",
          "text": [
            "[1975 1985 1995 2005 2010 2015 2016 2017]\n"
          ]
        }
      ],
      "source": [
        "# Coloque el código que responda a la pregunta aqui exactamente lo que se pregunta\n",
        "\n",
        "años_unicos = df_emisions_co2_per_capita['Year'].unique()\n",
        "print(años_unicos)"
      ]
    },
    {
      "cell_type": "markdown",
      "id": "18fa522e",
      "metadata": {
        "id": "18fa522e"
      },
      "source": [
        "# Pregunta 7"
      ]
    },
    {
      "cell_type": "markdown",
      "id": "2747ce42",
      "metadata": {
        "id": "2747ce42"
      },
      "source": [
        "Cuántas son las emisiones en 'toneladas métricas' en total usando todos los países para usando el dataframe 'df_emisions_co2'?\n"
      ]
    },
    {
      "cell_type": "code",
      "execution_count": 46,
      "id": "e8cbd117",
      "metadata": {
        "id": "e8cbd117"
      },
      "outputs": [
        {
          "name": "stdout",
          "output_type": "stream",
          "text": [
            "195028250.41599998\n"
          ]
        }
      ],
      "source": [
        "# Coloque el código que responda a la pregunta aqui exactamente lo que se pregunta\n",
        "\n",
        "total_emisiones = df_emisions_co2['Value'].sum()\n",
        "print(total_emisiones)"
      ]
    },
    {
      "cell_type": "markdown",
      "id": "42aa86db",
      "metadata": {
        "id": "42aa86db"
      },
      "source": [
        "# Pregunta 8"
      ]
    },
    {
      "cell_type": "markdown",
      "id": "a303974d",
      "metadata": {
        "id": "a303974d"
      },
      "source": [
        "Cuántas son las emisiones en 'toneladas métricas' sólo para Albania usando el dataframe 'df_emisions_co2'?"
      ]
    },
    {
      "cell_type": "code",
      "execution_count": 47,
      "id": "181ab815",
      "metadata": {
        "id": "181ab815"
      },
      "outputs": [
        {
          "name": "stdout",
          "output_type": "stream",
          "text": [
            "32713283.000000004\n"
          ]
        }
      ],
      "source": [
        "# Coloque el código que responda a la pregunta aqui exactamente lo que se pregunta\n",
        "\n",
        "df_albania = df_emisions_co2[df_emisions_co2['Country'] == 'Albania']\n",
        "\n",
        "\n",
        "total_emisiones_albania = df_albania['Value'].sum() * 1000  # Convertir de miles a toneladas\n",
        "print(total_emisiones_albania)"
      ]
    },
    {
      "cell_type": "markdown",
      "id": "d084c9f3",
      "metadata": {
        "id": "d084c9f3"
      },
      "source": [
        "# Pregunta 9"
      ]
    },
    {
      "cell_type": "markdown",
      "id": "ae9cebff",
      "metadata": {
        "id": "ae9cebff"
      },
      "source": [
        "Cuántas son las emisiones en 'libras' sólo para Costa Rica usando el dataframe 'df_emisions_co2'?\n"
      ]
    },
    {
      "cell_type": "code",
      "execution_count": 48,
      "id": "ee97d492",
      "metadata": {
        "id": "ee97d492"
      },
      "outputs": [
        {
          "name": "stdout",
          "output_type": "stream",
          "text": [
            "93085906154.34\n"
          ]
        }
      ],
      "source": [
        "# Coloque el código que responda a la pregunta aqui exactamente lo que se pregunta\n",
        "\n",
        "# Filtrar los datos para Costa Rica\n",
        "df_costa_rica = df_emisions_co2[df_emisions_co2['Country'] == 'Costa Rica']\n",
        "\n",
        "# Calcular el total de emisiones en libras para Costa Rica (convertir de toneladas métricas a libras)\n",
        "total_emisiones_libras_costa_rica = df_costa_rica['Value'].sum() * 1000 * 2204.62\n",
        "print(total_emisiones_libras_costa_rica)"
      ]
    },
    {
      "cell_type": "markdown",
      "id": "eb6dfc54",
      "metadata": {
        "id": "eb6dfc54"
      },
      "source": [
        "# Pregunta 10"
      ]
    },
    {
      "cell_type": "markdown",
      "id": "5862817e",
      "metadata": {
        "id": "5862817e"
      },
      "source": [
        "Para sólo 'Costa Rica' y suponiendo que las emisiones se estancan a partir del último año reportado. Cuántas son las emisiones en 'Kg' sólo para Costa Rica en el año 2022 usando el dataframe 'df_emisions_co2'?\n"
      ]
    },
    {
      "cell_type": "code",
      "execution_count": 49,
      "id": "76ed009c",
      "metadata": {
        "id": "76ed009c"
      },
      "outputs": [
        {
          "name": "stdout",
          "output_type": "stream",
          "text": [
            "7584411.0\n"
          ]
        }
      ],
      "source": [
        "# Coloque el código que responda a la pregunta aqui exactamente lo que se pregunta\n",
        "\n",
        "# Filtrar los datos para Costa Rica\n",
        "df_costa_rica = df_emisions_co2[df_emisions_co2['Country'] == 'Costa Rica']\n",
        "\n",
        "# Encontrar el último año reportado para Costa Rica\n",
        "ultimo_año = df_costa_rica['Year'].max()\n",
        "\n",
        "# Obtener el valor de las emisiones en el último año reportado\n",
        "emisiones_ultimo_año = df_costa_rica[df_costa_rica['Year'] == ultimo_año]['Value'].sum()\n",
        "\n",
        "# Convertir las emisiones de toneladas métricas a kilogramos (1 tonelada métrica = 1000 kg)\n",
        "emisiones_ultimo_año_kg = emisiones_ultimo_año * 1000\n",
        "print(emisiones_ultimo_año_kg)"
      ]
    },
    {
      "cell_type": "markdown",
      "id": "1c18874b",
      "metadata": {
        "id": "1c18874b"
      },
      "source": [
        "# Pregunta 12"
      ]
    },
    {
      "cell_type": "markdown",
      "id": "6a487c43",
      "metadata": {
        "id": "6a487c43"
      },
      "source": [
        "Para sólo los países de Centroamérica ['El Salvador', 'Honduras', 'Guatemala', 'Costa Rica', 'Nicaragua'] obtener un reporte por año de las emisiones totales en Centroamérica usando el dataframe 'df_emisions_co2'?\n",
        "Se espera un dataframe de 2 columnas: 'Year' y 'total_por_año'"
      ]
    },
    {
      "cell_type": "code",
      "execution_count": null,
      "id": "1d0426bf",
      "metadata": {
        "id": "1d0426bf"
      },
      "outputs": [
        {
          "name": "stdout",
          "output_type": "stream",
          "text": [
            "   Year  total_por_año\n",
            "0  1975       9860.972\n",
            "1  1985      10250.333\n",
            "2  1995      20960.234\n",
            "3  2005      33562.291\n",
            "4  2010      34533.555\n",
            "5  2015      43107.376\n",
            "6  2016      44366.072\n",
            "7  2017      43556.261\n"
          ]
        }
      ],
      "source": [
        "# Coloque el código que responda a la pregunta aqui exactamente lo que se pregunta\n",
        "\n",
        "\n",
        "paises_centroamerica = ['El Salvador', 'Honduras', 'Guatemala', 'Costa Rica', 'Nicaragua']\n",
        "df_centroamerica = df_emisions_co2[df_emisions_co2['Country'].isin(paises_centroamerica)]\n",
        "\n",
        "# Agrupar los datos por 'Year' y sumar las emisiones por año\n",
        "reporte_emisiones = df_centroamerica.groupby('Year')['Value'].sum().reset_index()\n",
        "\n",
        "# Renombrar la columna de la suma de emisiones a 'total_por_año'\n",
        "reporte_emisiones.rename(columns={'Value': 'total_por_año'}, inplace=True)\n",
        "\n",
        "# Mostrar el resultado\n",
        "print(reporte_emisiones)"
      ]
    },
    {
      "cell_type": "markdown",
      "id": "8fdaae3d",
      "metadata": {
        "id": "8fdaae3d"
      },
      "source": [
        "# Pregunta 13"
      ]
    },
    {
      "cell_type": "markdown",
      "id": "8a7e17ff",
      "metadata": {
        "id": "8a7e17ff"
      },
      "source": [
        "Para sólo los países de Centroamérica ['El Salvador', 'Honduras', 'Guatemala', 'Costa Rica', 'Nicaragua'] obtener un reporte por año de las emisiones en promedio en Centroamérica usando el dataframe 'df_emisions_co2_per_capita'?\n",
        "Se espera un dataframe de 2 columnas: 'Year' y 'promedio_por_año'"
      ]
    },
    {
      "cell_type": "code",
      "execution_count": null,
      "id": "4ec787f4",
      "metadata": {
        "id": "4ec787f4"
      },
      "outputs": [
        {
          "name": "stdout",
          "output_type": "stream",
          "text": [
            "   Year  promedio_por_año\n",
            "0  1975            0.5690\n",
            "1  1985            0.4620\n",
            "2  1995            0.7626\n",
            "3  2005            0.9720\n",
            "4  2010            0.9538\n",
            "5  2015            1.0572\n",
            "6  2016            1.0720\n",
            "7  2017            1.0422\n"
          ]
        }
      ],
      "source": [
        "# Coloque el código que responda a la pregunta aqui exactamente lo que se pregunta\n",
        "\n",
        "paises_centroamerica = ['El Salvador', 'Honduras', 'Guatemala', 'Costa Rica', 'Nicaragua']\n",
        "\n",
        "# Filtrar el DataFrame para los países de Centroamérica\n",
        "df_centroamerica_per_capita = df_emisions_co2_per_capita[df_emisions_co2_per_capita['Country'].isin(paises_centroamerica)]\n",
        "\n",
        "reporte_promedio_emisiones = df_centroamerica_per_capita.groupby('Year')['Value'].mean().reset_index()\n",
        "reporte_promedio_emisiones.rename(columns={'Value': 'promedio_por_año'}, inplace=True)\n",
        "\n",
        "print(reporte_promedio_emisiones)\n"
      ]
    },
    {
      "cell_type": "markdown",
      "id": "944ac865",
      "metadata": {
        "id": "944ac865"
      },
      "source": [
        "# Pregunta 14"
      ]
    },
    {
      "cell_type": "markdown",
      "id": "b961da55",
      "metadata": {
        "id": "b961da55"
      },
      "source": [
        "Cuál es el promedio de las emisiones per capita para el año 2005 usando el dataframe 'df_emisions_co2_per_capita'?\n"
      ]
    },
    {
      "cell_type": "code",
      "execution_count": 52,
      "id": "e2f0a786",
      "metadata": {
        "id": "e2f0a786"
      },
      "outputs": [
        {
          "name": "stdout",
          "output_type": "stream",
          "text": [
            "5.29775\n"
          ]
        }
      ],
      "source": [
        "# Coloque el código que responda a la pregunta aqui exactamente lo que se pregunta\n",
        "\n",
        "df_2005 = df_emisions_co2_per_capita[df_emisions_co2_per_capita['Year'] == 2005]\n",
        "promedio_2005 = df_2005['Value'].mean()\n",
        "\n",
        "print(promedio_2005)"
      ]
    }
  ],
  "metadata": {
    "colab": {
      "provenance": []
    },
    "kernelspec": {
      "display_name": "Python 3",
      "language": "python",
      "name": "python3"
    },
    "language_info": {
      "codemirror_mode": {
        "name": "ipython",
        "version": 3
      },
      "file_extension": ".py",
      "mimetype": "text/x-python",
      "name": "python",
      "nbconvert_exporter": "python",
      "pygments_lexer": "ipython3",
      "version": "3.13.1"
    }
  },
  "nbformat": 4,
  "nbformat_minor": 5
}
